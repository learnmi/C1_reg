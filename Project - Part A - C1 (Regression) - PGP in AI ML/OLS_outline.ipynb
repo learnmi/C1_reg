{
 "cells": [
  {
   "cell_type": "markdown",
   "metadata": {},
   "source": [
    "## Linear Regression with OLS\n",
    "\n",
    "The notebook contains incomplete code for the problem along with the necessary information in the form of comments that helps you to complete the project.  \n",
    "\n",
    "## Step 1 - Importing the required libraries \n",
    "\n",
    "We have completed this step for you. Please go through it to have a clear idea about the libraries that are used in the project."
   ]
  },
  {
   "cell_type": "code",
   "execution_count": 4,
   "metadata": {},
   "outputs": [],
   "source": [
    "import pandas as pd \n",
    "import numpy as np \n",
    "import matplotlib.pyplot as plt\n",
    "# Remember what this line did?\n",
    "%matplotlib inline  \n",
    "import math \n",
    "\n",
    "# the library we will use to create the model \n",
    "from sklearn.linear_model import LinearRegression\n",
    "\n",
    "from sklearn.model_selection import train_test_split\n",
    "from sklearn import metrics "
   ]
  },
  {
   "cell_type": "markdown",
   "metadata": {},
   "source": [
    "## Step 2 - Reading the dataset and splitting it into testing and training data"
   ]
  },
  {
   "cell_type": "code",
   "execution_count": 5,
   "metadata": {},
   "outputs": [],
   "source": [
    "# 2.1 Read the dataset from the csv file using pandas and write into a pandas dataframe object named 'dataset'\n"
   ]
  },
  {
   "cell_type": "markdown",
   "metadata": {},
   "source": [
    "Now we need to process the data so that the sklearn function for generating the model can be invoked. This involves converting the data into numpy arrays and reshaping. \n",
    "Please note that reshaping is required only when the array is single dimensional and we will have to reshape it in this case as there is only one independent variable.\n"
   ]
  },
  {
   "cell_type": "code",
   "execution_count": 6,
   "metadata": {},
   "outputs": [],
   "source": [
    "x = dataset['Father'].values.reshape(-1,1)\n",
    "y = dataset['Son'].values.reshape(-1,1)"
   ]
  },
  {
   "cell_type": "code",
   "execution_count": 22,
   "metadata": {},
   "outputs": [],
   "source": [
    "# 2.2 Split the data into test and train data using the function train_test_split imported above. \n",
    "# Recommended test size is 0.3. \n",
    "\n"
   ]
  },
  {
   "cell_type": "markdown",
   "metadata": {},
   "source": [
    "## Step 3 - Visualization of data \n",
    "\n",
    "Now that we have our data split into train and test, we will visualize the data through a scatterplot. \n",
    "Use matplotlib to plot the graph. "
   ]
  },
  {
   "cell_type": "code",
   "execution_count": 23,
   "metadata": {},
   "outputs": [],
   "source": [
    "# 2.3 Make a scatterplot of the data using matplotlib\n"
   ]
  },
  {
   "cell_type": "markdown",
   "metadata": {},
   "source": [
    "## Step 4 - Generating the model \n",
    "\n",
    "Now that we have visualized the data, we proceed to generate a model for the same. \n",
    "Here we need to make use of the linear_model library we imported above and then 'fit' the training data to the model object. "
   ]
  },
  {
   "cell_type": "code",
   "execution_count": 24,
   "metadata": {},
   "outputs": [],
   "source": [
    "# 2.4 generate a model object using the library imported above \n",
    "\n"
   ]
  },
  {
   "cell_type": "markdown",
   "metadata": {},
   "source": [
    "Now we obtain the intercept and coefficient values for our generated model using the model object. \n",
    "The intercept and coefficient of the simple regression model are obtained as properties of the model object. "
   ]
  },
  {
   "cell_type": "code",
   "execution_count": 25,
   "metadata": {},
   "outputs": [],
   "source": [
    "# 2.6 print('Predicted coeffient value is: ', )\n",
    "\n",
    "\n",
    "# 2.7 print('Predicted intercept value is: ', )\n",
    "\n"
   ]
  },
  {
   "cell_type": "markdown",
   "metadata": {},
   "source": [
    "## Step 5 - Visualizing the line obtained\n",
    "\n",
    "Having built the model, let us plot it.\n",
    "\n",
    "1. The scatterplot will be plotted the in the same way as done in step 3. \n",
    "2. Plotting the line requires to input a list of points (x,y) to the matplotlib function.\n",
    "3. For this, make use of linspace() function to generate 50 points between the minimum and maximum values of x in the given data. The function 'linspace()' is part of numpy. \n",
    "4. We get the predicted values (y) of these 50 points (x) using the predict() which is a function of the model obtained above. You may have to reshape the list of 50 points here too, as required by the library.  \n",
    "5. We feed this data to the matplotlib function and obtain our line. \n"
   ]
  },
  {
   "cell_type": "code",
   "execution_count": 26,
   "metadata": {},
   "outputs": [],
   "source": [
    "# code for the line here \n"
   ]
  }
 ],
 "metadata": {
  "kernelspec": {
   "display_name": "Python 3",
   "language": "python",
   "name": "python3"
  },
  "language_info": {
   "codemirror_mode": {
    "name": "ipython",
    "version": 3
   },
   "file_extension": ".py",
   "mimetype": "text/x-python",
   "name": "python",
   "nbconvert_exporter": "python",
   "pygments_lexer": "ipython3",
   "version": "3.5.2"
  }
 },
 "nbformat": 4,
 "nbformat_minor": 2
}
